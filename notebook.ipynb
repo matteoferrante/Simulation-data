{
 "cells": [
  {
   "cell_type": "code",
   "execution_count": 1,
   "metadata": {},
   "outputs": [],
   "source": [
    "import pandas as pd\n",
    "import torch"
   ]
  },
  {
   "cell_type": "code",
   "execution_count": 2,
   "metadata": {},
   "outputs": [
    {
     "data": {
      "text/html": [
       "<div>\n",
       "<style scoped>\n",
       "    .dataframe tbody tr th:only-of-type {\n",
       "        vertical-align: middle;\n",
       "    }\n",
       "\n",
       "    .dataframe tbody tr th {\n",
       "        vertical-align: top;\n",
       "    }\n",
       "\n",
       "    .dataframe thead th {\n",
       "        text-align: right;\n",
       "    }\n",
       "</style>\n",
       "<table border=\"1\" class=\"dataframe\">\n",
       "  <thead>\n",
       "    <tr style=\"text-align: right;\">\n",
       "      <th></th>\n",
       "      <th>feature1_t0</th>\n",
       "      <th>feature2_t0</th>\n",
       "      <th>feature3_t0</th>\n",
       "      <th>feature1_t1</th>\n",
       "      <th>feature2_t1</th>\n",
       "      <th>feature3_t1</th>\n",
       "      <th>feature1_t2</th>\n",
       "      <th>feature2_t2</th>\n",
       "      <th>feature3_t2</th>\n",
       "      <th>score_t0</th>\n",
       "      <th>score_t1</th>\n",
       "      <th>score_t2</th>\n",
       "      <th>score</th>\n",
       "      <th>label</th>\n",
       "    </tr>\n",
       "  </thead>\n",
       "  <tbody>\n",
       "    <tr>\n",
       "      <th>0</th>\n",
       "      <td>1.275952</td>\n",
       "      <td>9.548464</td>\n",
       "      <td>20.857206</td>\n",
       "      <td>-1.640917</td>\n",
       "      <td>9.879204</td>\n",
       "      <td>19.796847</td>\n",
       "      <td>1.286034</td>\n",
       "      <td>7.853225</td>\n",
       "      <td>20.916851</td>\n",
       "      <td>-12.885027</td>\n",
       "      <td>-13.454494</td>\n",
       "      <td>-10.525529</td>\n",
       "      <td>-13.805164</td>\n",
       "      <td>1.0</td>\n",
       "    </tr>\n",
       "    <tr>\n",
       "      <th>1</th>\n",
       "      <td>2.209974</td>\n",
       "      <td>11.657870</td>\n",
       "      <td>18.994037</td>\n",
       "      <td>-1.583167</td>\n",
       "      <td>11.185200</td>\n",
       "      <td>20.050245</td>\n",
       "      <td>-0.040625</td>\n",
       "      <td>10.566484</td>\n",
       "      <td>19.212929</td>\n",
       "      <td>-11.824399</td>\n",
       "      <td>-13.999659</td>\n",
       "      <td>-11.552003</td>\n",
       "      <td>-10.581159</td>\n",
       "      <td>1.0</td>\n",
       "    </tr>\n",
       "    <tr>\n",
       "      <th>2</th>\n",
       "      <td>-0.928405</td>\n",
       "      <td>11.057740</td>\n",
       "      <td>22.520939</td>\n",
       "      <td>1.421343</td>\n",
       "      <td>11.178265</td>\n",
       "      <td>20.241026</td>\n",
       "      <td>-0.029118</td>\n",
       "      <td>10.790355</td>\n",
       "      <td>20.340290</td>\n",
       "      <td>-11.021825</td>\n",
       "      <td>-12.921086</td>\n",
       "      <td>-14.071246</td>\n",
       "      <td>-10.887280</td>\n",
       "      <td>1.0</td>\n",
       "    </tr>\n",
       "    <tr>\n",
       "      <th>3</th>\n",
       "      <td>0.583430</td>\n",
       "      <td>9.428129</td>\n",
       "      <td>19.557302</td>\n",
       "      <td>0.102584</td>\n",
       "      <td>9.106648</td>\n",
       "      <td>14.846111</td>\n",
       "      <td>-1.093920</td>\n",
       "      <td>10.778970</td>\n",
       "      <td>20.884420</td>\n",
       "      <td>-15.485350</td>\n",
       "      <td>-15.343734</td>\n",
       "      <td>-12.313570</td>\n",
       "      <td>-14.453414</td>\n",
       "      <td>0.0</td>\n",
       "    </tr>\n",
       "    <tr>\n",
       "      <th>4</th>\n",
       "      <td>0.142398</td>\n",
       "      <td>9.179987</td>\n",
       "      <td>20.252988</td>\n",
       "      <td>-1.483179</td>\n",
       "      <td>9.365358</td>\n",
       "      <td>19.794396</td>\n",
       "      <td>1.470028</td>\n",
       "      <td>12.056651</td>\n",
       "      <td>20.820639</td>\n",
       "      <td>-13.315184</td>\n",
       "      <td>-13.604042</td>\n",
       "      <td>-14.272901</td>\n",
       "      <td>-15.524159</td>\n",
       "      <td>0.0</td>\n",
       "    </tr>\n",
       "  </tbody>\n",
       "</table>\n",
       "</div>"
      ],
      "text/plain": [
       "   feature1_t0  feature2_t0  feature3_t0  feature1_t1  feature2_t1  \\\n",
       "0     1.275952     9.548464    20.857206    -1.640917     9.879204   \n",
       "1     2.209974    11.657870    18.994037    -1.583167    11.185200   \n",
       "2    -0.928405    11.057740    22.520939     1.421343    11.178265   \n",
       "3     0.583430     9.428129    19.557302     0.102584     9.106648   \n",
       "4     0.142398     9.179987    20.252988    -1.483179     9.365358   \n",
       "\n",
       "   feature3_t1  feature1_t2  feature2_t2  feature3_t2   score_t0   score_t1  \\\n",
       "0    19.796847     1.286034     7.853225    20.916851 -12.885027 -13.454494   \n",
       "1    20.050245    -0.040625    10.566484    19.212929 -11.824399 -13.999659   \n",
       "2    20.241026    -0.029118    10.790355    20.340290 -11.021825 -12.921086   \n",
       "3    14.846111    -1.093920    10.778970    20.884420 -15.485350 -15.343734   \n",
       "4    19.794396     1.470028    12.056651    20.820639 -13.315184 -13.604042   \n",
       "\n",
       "    score_t2      score  label  \n",
       "0 -10.525529 -13.805164    1.0  \n",
       "1 -11.552003 -10.581159    1.0  \n",
       "2 -14.071246 -10.887280    1.0  \n",
       "3 -12.313570 -14.453414    0.0  \n",
       "4 -14.272901 -15.524159    0.0  "
      ]
     },
     "execution_count": 2,
     "metadata": {},
     "output_type": "execute_result"
    }
   ],
   "source": [
    "## load data.csv\n",
    "c_names=[\"feature1_t0\",\"feature2_t0\",\"feature3_t0\",\"feature1_t1\",\"feature2_t1\",\"feature3_t1\",\"feature1_t2\",\"feature2_t2\",\"feature3_t2\",\"score_t0\",\"score_t1\",\"score_t2\",\"score\",\"label\"]\n",
    "data = pd.read_csv('data.csv',names=c_names,skiprows=1)\n",
    "data.head()"
   ]
  },
  {
   "cell_type": "code",
   "execution_count": 3,
   "metadata": {},
   "outputs": [],
   "source": [
    "## Split data\n",
    "X = data.iloc[:,:-2]\n",
    "y = data.iloc[:,-1]\n",
    "\n",
    "# Split data into train and test sets\n",
    "from sklearn.model_selection import train_test_split\n",
    "X_train, X_test, y_train, y_test = train_test_split(X,y, \n",
    "                                                    test_size=0.2, \n",
    "                                                    random_state=42)"
   ]
  },
  {
   "cell_type": "code",
   "execution_count": 4,
   "metadata": {},
   "outputs": [],
   "source": [
    "X_train = torch.tensor(X_train.to_numpy()).float()\n",
    "X_test = torch.tensor(X_test.to_numpy()).float()\n",
    "\n",
    "y_train = torch.tensor(y_train.to_numpy()).long()\n",
    "y_test = torch.tensor(y_test.to_numpy()).long()"
   ]
  },
  {
   "cell_type": "code",
   "execution_count": 5,
   "metadata": {},
   "outputs": [],
   "source": [
    "mean_train = X_train.mean(dim=0, keepdim=True)\n",
    "std_train = X_train.std(dim=0, keepdim=True)\n",
    "\n",
    "X_train = (X_train - mean_train)/std_train\n",
    "X_test = (X_test - mean_train)/std_train"
   ]
  },
  {
   "cell_type": "code",
   "execution_count": 6,
   "metadata": {},
   "outputs": [],
   "source": [
    "import argparse\n",
    "import os\n",
    "\n",
    "import networkx as nx\n",
    "\n",
    "import torch\n",
    "import torch.nn as nn\n",
    "from torch.utils.data import DataLoader, RandomSampler, random_split, TensorDataset\n",
    "import torchvision.datasets as datasets\n",
    "from torchvision.models import resnet18\n",
    "from torchvision.models.vision_transformer import VisionTransformer, ViT_B_16_Weights, vit_b_16, _vision_transformer\n",
    "import torchvision.transforms as transforms\n",
    "\n",
    "from pytorch_lightning import Trainer, seed_everything\n",
    "from pytorch_lightning.callbacks import Callback, EarlyStopping, LearningRateMonitor, ModelCheckpoint\n",
    "from pytorch_lightning.loggers import WandbLogger\n",
    "from pytorch_lightning.strategies.ddp import DDPStrategy\n",
    "\n",
    "import wandb\n",
    "\n",
    "\n",
    "LR = 3e-4 # learning rate\n",
    "BS = 64 # batch size\n",
    "\n",
    "\n",
    "train_set = TensorDataset(X_train, y_train)\n",
    "test_set = TensorDataset(X_test, y_test)\n",
    "train_loader = DataLoader(train_set, batch_size=BS, shuffle=True)\n",
    "test_loader = DataLoader(test_set, batch_size=BS)"
   ]
  },
  {
   "cell_type": "code",
   "execution_count": 7,
   "metadata": {},
   "outputs": [],
   "source": [
    "from models import BaseModule\n",
    "mlp = nn.Sequential(\n",
    "    nn.Linear(12, 128),\n",
    "    nn.ReLU(),\n",
    "    nn.Linear(128, 2)\n",
    ")\n",
    "model = BaseModule(mlp, num_classes=2, lr=LR)"
   ]
  },
  {
   "cell_type": "code",
   "execution_count": 8,
   "metadata": {},
   "outputs": [
    {
     "name": "stderr",
     "output_type": "stream",
     "text": [
      "GPU available: True (cuda), used: True\n",
      "TPU available: False, using: 0 TPU cores\n",
      "IPU available: False, using: 0 IPUs\n",
      "HPU available: False, using: 0 HPUs\n",
      "You are using a CUDA device ('NVIDIA RTX A6000') that has Tensor Cores. To properly utilize them, you should set `torch.set_float32_matmul_precision('medium' | 'high')` which will trade-off precision for performance. For more details, read https://pytorch.org/docs/stable/generated/torch.set_float32_matmul_precision.html#torch.set_float32_matmul_precision\n",
      "LOCAL_RANK: 0 - CUDA_VISIBLE_DEVICES: [0,1]\n",
      "\n",
      "  | Name      | Type       | Params\n",
      "-----------------------------------------\n",
      "0 | model     | Sequential | 1.9 K \n",
      "1 | train_acc | Accuracy   | 0     \n",
      "2 | test_acc  | Accuracy   | 0     \n",
      "-----------------------------------------\n",
      "1.9 K     Trainable params\n",
      "0         Non-trainable params\n",
      "1.9 K     Total params\n",
      "0.008     Total estimated model params size (MB)\n",
      "/home/tommaso/miniconda3/envs/saint_env/lib/python3.8/site-packages/pytorch_lightning/trainer/connectors/data_connector.py:430: PossibleUserWarning: The dataloader, train_dataloader, does not have many workers which may be a bottleneck. Consider increasing the value of the `num_workers` argument` (try 64 which is the number of cpus on this machine) in the `DataLoader` init to improve performance.\n",
      "  rank_zero_warn(\n"
     ]
    },
    {
     "data": {
      "application/vnd.jupyter.widget-view+json": {
       "model_id": "b1cb11f2e4c740b4a3c2df93baa490dd",
       "version_major": 2,
       "version_minor": 0
      },
      "text/plain": [
       "Training: 0it [00:00, ?it/s]"
      ]
     },
     "metadata": {},
     "output_type": "display_data"
    },
    {
     "name": "stderr",
     "output_type": "stream",
     "text": [
      "`Trainer.fit` stopped: `max_epochs=30` reached.\n",
      "You are using a CUDA device ('NVIDIA RTX A6000') that has Tensor Cores. To properly utilize them, you should set `torch.set_float32_matmul_precision('medium' | 'high')` which will trade-off precision for performance. For more details, read https://pytorch.org/docs/stable/generated/torch.set_float32_matmul_precision.html#torch.set_float32_matmul_precision\n",
      "Restoring states from the checkpoint path at checkpoints/lightning_logs/version_16/checkpoints/epoch=29-step=1770.ckpt\n",
      "LOCAL_RANK: 0 - CUDA_VISIBLE_DEVICES: [0,1]\n",
      "Loaded model weights from the checkpoint at checkpoints/lightning_logs/version_16/checkpoints/epoch=29-step=1770.ckpt\n",
      "/home/tommaso/miniconda3/envs/saint_env/lib/python3.8/site-packages/pytorch_lightning/trainer/connectors/data_connector.py:430: PossibleUserWarning: The dataloader, test_dataloader, does not have many workers which may be a bottleneck. Consider increasing the value of the `num_workers` argument` (try 64 which is the number of cpus on this machine) in the `DataLoader` init to improve performance.\n",
      "  rank_zero_warn(\n"
     ]
    },
    {
     "data": {
      "application/vnd.jupyter.widget-view+json": {
       "model_id": "6f820c56c1e44862be5eb6ec348dcaf9",
       "version_major": 2,
       "version_minor": 0
      },
      "text/plain": [
       "Testing: 0it [00:00, ?it/s]"
      ]
     },
     "metadata": {},
     "output_type": "display_data"
    },
    {
     "name": "stdout",
     "output_type": "stream",
     "text": [
      "────────────────────────────────────────────────────────────────────────────────────────────────────────────────────────\n",
      "       Test metric             DataLoader 0\n",
      "────────────────────────────────────────────────────────────────────────────────────────────────────────────────────────\n",
      "        test_acc             0.672340452671051\n",
      "────────────────────────────────────────────────────────────────────────────────────────────────────────────────────────\n"
     ]
    },
    {
     "data": {
      "text/plain": [
       "[{'test_acc': 0.672340452671051}]"
      ]
     },
     "execution_count": 8,
     "metadata": {},
     "output_type": "execute_result"
    }
   ],
   "source": [
    "# ckpt_best = ModelCheckpoint(\n",
    "#     dirpath='checkpoints',\n",
    "#     filename='ckpt',\n",
    "#     # monitor='val_loss',\n",
    "#     mode='min'\n",
    "# )\n",
    "\n",
    "# lr_monitor = LearningRateMonitor(logging_interval='epoch')\n",
    "\n",
    "# callbacks = [ckpt_best, lr_monitor]\n",
    "\n",
    "trainer = Trainer(\n",
    "    max_epochs=30,\n",
    "    # callbacks=callbacks,\n",
    "    accelerator='gpu',\n",
    "    devices=[0],\n",
    "    # strategy=DDPStrategy(find_unused_parameters=False),\n",
    "    # logger=WandbLogger(),\n",
    "    # log_every_n_steps=10\n",
    "    default_root_dir='checkpoints'\n",
    ")\n",
    "\n",
    "# train\n",
    "trainer.fit(model, train_loader)\n",
    "\n",
    "# test\n",
    "trainer.test(dataloaders=test_loader, ckpt_path='best')"
   ]
  }
 ],
 "metadata": {
  "kernelspec": {
   "display_name": "saint_env",
   "language": "python",
   "name": "python3"
  },
  "language_info": {
   "codemirror_mode": {
    "name": "ipython",
    "version": 3
   },
   "file_extension": ".py",
   "mimetype": "text/x-python",
   "name": "python",
   "nbconvert_exporter": "python",
   "pygments_lexer": "ipython3",
   "version": "3.8.10"
  }
 },
 "nbformat": 4,
 "nbformat_minor": 2
}
